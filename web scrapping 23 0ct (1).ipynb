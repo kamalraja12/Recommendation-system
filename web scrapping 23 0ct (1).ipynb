{
 "cells": [
  {
   "cell_type": "code",
   "execution_count": 1,
   "id": "4393afe4",
   "metadata": {},
   "outputs": [],
   "source": [
    "#importing the libraries needed \n",
    "import pandas as pd\n",
    "import numpy as np\n",
    "import requests\n",
    "from bs4 import BeautifulSoup\n",
    "from time import sleep\n",
    "from random import randint\n",
    "\n",
    "\n",
    "#Declaring the headers \n",
    "headers = {\"Accept-Language\": \"en-US,en;q=0.5\"}\n",
    "\n",
    "#declaring the list of empty variables, So that we can append the data overall\n",
    "\n",
    "movie_name = []\n",
    "year = []\n",
    "time=[]\n",
    "rating=[]\n",
    "metascore =[]\n",
    "votes = []\n",
    "gross = []\n",
    "description = []\n",
    "Director=[]\n",
    "Stars=[]\n",
    "Certificate=[]\n",
    "Genre=[]\n",
    "\n",
    "#creating an array of values and passing it in the url for dynamic webpages\n",
    "pages = np.arange(1,10000,50)\n",
    "\n",
    "#the whole core of the script\n",
    "for page in pages:\n",
    "    page = requests.get(\"https://www.imdb.com/search/title/?title_type=feature&num_votes=10000,&sort=user_rating,desc&start=\"+str(page)+\"&ref_=adv_nxt\")\n",
    "    soup = BeautifulSoup(page.text, 'html.parser')\n",
    "    movie_data = soup.findAll('div', attrs = {'class': 'lister-item mode-advanced'})\n",
    "    sleep(randint(2,8))\n",
    "    for store in movie_data:\n",
    "        name = store.h3.a.text\n",
    "        movie_name.append(name)\n",
    "        \n",
    "        year_of_release = store.h3.find('span', class_ = \"lister-item-year text-muted unbold\").text\n",
    "        year.append(year_of_release)\n",
    "        \n",
    "        runtime = store.p.find(\"span\", class_ = 'runtime').text\n",
    "        time.append(runtime)\n",
    "        \n",
    "        rate = store.find('div', class_ = \"inline-block ratings-imdb-rating\").text.replace('\\n', '')\n",
    "        rating.append(rate)\n",
    "        \n",
    "        meta = store.find('span', class_ = \"metascore\").text if store.find('span', class_ = \"metascore\") else \"****\"\n",
    "        metascore.append(meta)\n",
    "        \n",
    "        certificates = store.find('span', class_='certificate').text if store.find('span', class_='certificate') else \"****\"\n",
    "        Certificate.append(certificates)\n",
    "        \n",
    "        \n",
    "        value = store.find_all('span', attrs = {'name': \"nv\"})\n",
    "        \n",
    "        vote = value[0].text\n",
    "        votes.append(vote)\n",
    "        \n",
    "        grosses = value[1].text if len(value)>1 else '%^%^%^'\n",
    "        gross.append(grosses)\n",
    "        \n",
    "        genres= store.find('span', class_='genre').text \n",
    "        Genre.append(genres)\n",
    "        \n",
    "        # Description of the Movies -- Not explained in the Video, But you will figure it out. \n",
    "        describe = store.find_all('p', class_ = 'text-muted')\n",
    "        description_ = describe[1].text.replace('\\n', '') if len(describe) >1 else '*****'\n",
    "        description.append(description_)\n",
    "        \n",
    "        Cast = store.find('p', class_='')\n",
    "        casts = Cast.text.replace(\"\\n\",\"\").split('|')\n",
    "        casts=[x.strip() for x in casts] if len(casts)>1 else '###'\n",
    "        casts=[casts[i].replace(j,'') for i,j in enumerate([\"Director:\",\"Stars:\"])]\n",
    "        Director.append(casts[0])\n",
    "        Stars.append([x.strip() for x in casts[1].split(',')])\n",
    "        \n",
    "#creating a dataframe \n",
    "movie_list = pd.DataFrame({ \"Movie Name\": movie_name,'Genre':Genre, \"Year of Release\" : year,\"Certificate\": Certificate, \"Watch Time\": time,\"Movie Rating\": rating, \"Meatscore of movie\": metascore, \"Votes\" : votes, \"Gross\": gross, \"Description\": description, 'Director Name': Director, \"Stars\": Stars  })\n"
   ]
  },
  {
   "cell_type": "code",
   "execution_count": null,
   "id": "c947494b",
   "metadata": {},
   "outputs": [],
   "source": []
  },
  {
   "cell_type": "code",
   "execution_count": 2,
   "id": "251725f4",
   "metadata": {
    "scrolled": true
   },
   "outputs": [
    {
     "data": {
      "text/html": [
       "<div>\n",
       "<style scoped>\n",
       "    .dataframe tbody tr th:only-of-type {\n",
       "        vertical-align: middle;\n",
       "    }\n",
       "\n",
       "    .dataframe tbody tr th {\n",
       "        vertical-align: top;\n",
       "    }\n",
       "\n",
       "    .dataframe thead th {\n",
       "        text-align: right;\n",
       "    }\n",
       "</style>\n",
       "<table border=\"1\" class=\"dataframe\">\n",
       "  <thead>\n",
       "    <tr style=\"text-align: right;\">\n",
       "      <th></th>\n",
       "      <th>Movie Name</th>\n",
       "      <th>Genre</th>\n",
       "      <th>Year of Release</th>\n",
       "      <th>Certificate</th>\n",
       "      <th>Watch Time</th>\n",
       "      <th>Movie Rating</th>\n",
       "      <th>Meatscore of movie</th>\n",
       "      <th>Votes</th>\n",
       "      <th>Gross</th>\n",
       "      <th>Description</th>\n",
       "      <th>Director Name</th>\n",
       "      <th>Stars</th>\n",
       "    </tr>\n",
       "  </thead>\n",
       "  <tbody>\n",
       "    <tr>\n",
       "      <th>0</th>\n",
       "      <td>The Shawshank Redemption</td>\n",
       "      <td>\\nDrama</td>\n",
       "      <td>(1994)</td>\n",
       "      <td>A</td>\n",
       "      <td>142 min</td>\n",
       "      <td>9.3</td>\n",
       "      <td>82</td>\n",
       "      <td>2,813,477</td>\n",
       "      <td>$28.34M</td>\n",
       "      <td>Over the course of several years, two convicts...</td>\n",
       "      <td>Frank Darabont</td>\n",
       "      <td>[Tim Robbins, Morgan Freeman, Bob Gunton, Will...</td>\n",
       "    </tr>\n",
       "    <tr>\n",
       "      <th>1</th>\n",
       "      <td>The Godfather</td>\n",
       "      <td>\\nCrime, Drama</td>\n",
       "      <td>(1972)</td>\n",
       "      <td>A</td>\n",
       "      <td>175 min</td>\n",
       "      <td>9.2</td>\n",
       "      <td>100</td>\n",
       "      <td>1,960,785</td>\n",
       "      <td>$134.97M</td>\n",
       "      <td>Don Vito Corleone, head of a mafia family, dec...</td>\n",
       "      <td>Francis Ford Coppola</td>\n",
       "      <td>[Marlon Brando, Al Pacino, James Caan, Diane K...</td>\n",
       "    </tr>\n",
       "    <tr>\n",
       "      <th>2</th>\n",
       "      <td>Ramayana: The Legend of Prince Rama</td>\n",
       "      <td>\\nAnimation, Action, Adventure</td>\n",
       "      <td>(1993)</td>\n",
       "      <td>U</td>\n",
       "      <td>135 min</td>\n",
       "      <td>9.2</td>\n",
       "      <td>****</td>\n",
       "      <td>13,146</td>\n",
       "      <td>%^%^%^</td>\n",
       "      <td>An anime adaptation of the Hindu epic the Rama...</td>\n",
       "      <td>Directors:Ram Mohan, Yûgô Sakô, Koichi Saski</td>\n",
       "      <td>[Arun Govil, Nikhil Kapoor, Edie Mirman, Rael ...</td>\n",
       "    </tr>\n",
       "    <tr>\n",
       "      <th>3</th>\n",
       "      <td>Hababam Sinifi</td>\n",
       "      <td>\\nComedy, Drama</td>\n",
       "      <td>(1975)</td>\n",
       "      <td>****</td>\n",
       "      <td>87 min</td>\n",
       "      <td>9.2</td>\n",
       "      <td>****</td>\n",
       "      <td>42,295</td>\n",
       "      <td>%^%^%^</td>\n",
       "      <td>Lazy, uneducated students share a very close b...</td>\n",
       "      <td>Ertem Egilmez</td>\n",
       "      <td>[Kemal Sunal, Münir Özkul, Halit Akçatepe, Tar...</td>\n",
       "    </tr>\n",
       "    <tr>\n",
       "      <th>4</th>\n",
       "      <td>The Dark Knight</td>\n",
       "      <td>\\nAction, Crime, Drama</td>\n",
       "      <td>(2008)</td>\n",
       "      <td>UA</td>\n",
       "      <td>152 min</td>\n",
       "      <td>9.0</td>\n",
       "      <td>84</td>\n",
       "      <td>2,795,162</td>\n",
       "      <td>$534.86M</td>\n",
       "      <td>When the menace known as the Joker wreaks havo...</td>\n",
       "      <td>Christopher Nolan</td>\n",
       "      <td>[Christian Bale, Heath Ledger, Aaron Eckhart, ...</td>\n",
       "    </tr>\n",
       "  </tbody>\n",
       "</table>\n",
       "</div>"
      ],
      "text/plain": [
       "                            Movie Name  \\\n",
       "0             The Shawshank Redemption   \n",
       "1                        The Godfather   \n",
       "2  Ramayana: The Legend of Prince Rama   \n",
       "3                       Hababam Sinifi   \n",
       "4                      The Dark Knight   \n",
       "\n",
       "                                        Genre Year of Release Certificate  \\\n",
       "0                         \\nDrama                      (1994)           A   \n",
       "1                  \\nCrime, Drama                      (1972)           A   \n",
       "2  \\nAnimation, Action, Adventure                      (1993)           U   \n",
       "3                 \\nComedy, Drama                      (1975)        ****   \n",
       "4          \\nAction, Crime, Drama                      (2008)          UA   \n",
       "\n",
       "  Watch Time Movie Rating Meatscore of movie      Votes     Gross  \\\n",
       "0    142 min          9.3         82          2,813,477   $28.34M   \n",
       "1    175 min          9.2        100          1,960,785  $134.97M   \n",
       "2    135 min          9.2               ****     13,146    %^%^%^   \n",
       "3     87 min          9.2               ****     42,295    %^%^%^   \n",
       "4    152 min          9.0         84          2,795,162  $534.86M   \n",
       "\n",
       "                                         Description  \\\n",
       "0  Over the course of several years, two convicts...   \n",
       "1  Don Vito Corleone, head of a mafia family, dec...   \n",
       "2  An anime adaptation of the Hindu epic the Rama...   \n",
       "3  Lazy, uneducated students share a very close b...   \n",
       "4  When the menace known as the Joker wreaks havo...   \n",
       "\n",
       "                                  Director Name  \\\n",
       "0                                Frank Darabont   \n",
       "1                          Francis Ford Coppola   \n",
       "2  Directors:Ram Mohan, Yûgô Sakô, Koichi Saski   \n",
       "3                                 Ertem Egilmez   \n",
       "4                             Christopher Nolan   \n",
       "\n",
       "                                               Stars  \n",
       "0  [Tim Robbins, Morgan Freeman, Bob Gunton, Will...  \n",
       "1  [Marlon Brando, Al Pacino, James Caan, Diane K...  \n",
       "2  [Arun Govil, Nikhil Kapoor, Edie Mirman, Rael ...  \n",
       "3  [Kemal Sunal, Münir Özkul, Halit Akçatepe, Tar...  \n",
       "4  [Christian Bale, Heath Ledger, Aaron Eckhart, ...  "
      ]
     },
     "execution_count": 2,
     "metadata": {},
     "output_type": "execute_result"
    }
   ],
   "source": [
    "movie_list.head()"
   ]
  },
  {
   "cell_type": "code",
   "execution_count": 3,
   "id": "d07140c0",
   "metadata": {},
   "outputs": [],
   "source": [
    "df=movie_list"
   ]
  },
  {
   "cell_type": "markdown",
   "id": "0a51bdad",
   "metadata": {},
   "source": [
    "Treating Genre column"
   ]
  },
  {
   "cell_type": "code",
   "execution_count": 4,
   "id": "c0334b15",
   "metadata": {},
   "outputs": [
    {
     "data": {
      "text/plain": [
       "0                           Drama            \n",
       "1                    Crime, Drama            \n",
       "2    Animation, Action, Adventure            \n",
       "3                   Comedy, Drama            \n",
       "4            Action, Crime, Drama            \n",
       "Name: Genre, dtype: object"
      ]
     },
     "execution_count": 4,
     "metadata": {},
     "output_type": "execute_result"
    }
   ],
   "source": [
    "df['Genre']=df['Genre'].str.replace('\\n','')\n",
    "df['Genre'].head()"
   ]
  },
  {
   "cell_type": "markdown",
   "id": "4eeda27f",
   "metadata": {},
   "source": [
    " Treating Year of release column"
   ]
  },
  {
   "cell_type": "code",
   "execution_count": 5,
   "id": "8a05d36d",
   "metadata": {},
   "outputs": [],
   "source": [
    "df['Year of Release']=df['Year of Release'].str.replace('(',\"\")\n",
    "df['Year of Release']=df['Year of Release'].str.replace(')',\"\")\n",
    "df['Year of Release']=df['Year of Release'].str.replace('I',\"\")\n",
    "df['Year of Release']=df['Year of Release'].str.replace('V',\"\")\n",
    "df['Year of Release']=df['Year of Release'].str.replace('X',\"\")\n",
    "\n",
    "\n",
    "\n",
    "df['Year of Release']=df['Year of Release'].astype(int)"
   ]
  },
  {
   "cell_type": "code",
   "execution_count": 6,
   "id": "f53b9e29",
   "metadata": {},
   "outputs": [
    {
     "data": {
      "text/plain": [
       "0"
      ]
     },
     "execution_count": 6,
     "metadata": {},
     "output_type": "execute_result"
    }
   ],
   "source": [
    "df['Year of Release'].isnull().sum()"
   ]
  },
  {
   "cell_type": "markdown",
   "id": "28030b23",
   "metadata": {},
   "source": [
    "Treating Certificate column"
   ]
  },
  {
   "cell_type": "code",
   "execution_count": 7,
   "id": "5bf4c00d",
   "metadata": {},
   "outputs": [
    {
     "data": {
      "text/plain": [
       "0    R\n",
       "Name: Certificate, dtype: object"
      ]
     },
     "execution_count": 7,
     "metadata": {},
     "output_type": "execute_result"
    }
   ],
   "source": [
    "df['Certificate'].mode()"
   ]
  },
  {
   "cell_type": "code",
   "execution_count": 8,
   "id": "d22fcbcd",
   "metadata": {},
   "outputs": [],
   "source": [
    "df['Certificate']=df['Certificate'].str.replace(\"****\",\"R\", regex=False)"
   ]
  },
  {
   "cell_type": "code",
   "execution_count": 9,
   "id": "31bbaf5f",
   "metadata": {},
   "outputs": [
    {
     "data": {
      "text/plain": [
       "0        A\n",
       "1        A\n",
       "2        U\n",
       "3        R\n",
       "4       UA\n",
       "        ..\n",
       "9995     A\n",
       "9996     A\n",
       "9997    UA\n",
       "9998     U\n",
       "9999     U\n",
       "Name: Certificate, Length: 10000, dtype: object"
      ]
     },
     "execution_count": 9,
     "metadata": {},
     "output_type": "execute_result"
    }
   ],
   "source": [
    "df['Certificate']"
   ]
  },
  {
   "cell_type": "markdown",
   "id": "bb0a0ad7",
   "metadata": {},
   "source": [
    "Treating Votes Variable"
   ]
  },
  {
   "cell_type": "code",
   "execution_count": 10,
   "id": "c7b2a94e",
   "metadata": {},
   "outputs": [
    {
     "data": {
      "text/plain": [
       "0       2813477\n",
       "1       1960785\n",
       "2         13146\n",
       "3         42295\n",
       "4       2795162\n",
       "         ...   \n",
       "9995      11169\n",
       "9996      12337\n",
       "9997     101860\n",
       "9998      46086\n",
       "9999      49988\n",
       "Name: Votes, Length: 10000, dtype: int32"
      ]
     },
     "execution_count": 10,
     "metadata": {},
     "output_type": "execute_result"
    }
   ],
   "source": [
    "df['Votes']=df['Votes'].str.replace(',','').astype(int)\n",
    "df['Votes']"
   ]
  },
  {
   "cell_type": "markdown",
   "id": "243c2b33",
   "metadata": {},
   "source": [
    "Treating Watch time variable"
   ]
  },
  {
   "cell_type": "code",
   "execution_count": 11,
   "id": "a8fbb992",
   "metadata": {},
   "outputs": [],
   "source": [
    "df['Watch Time']=df['Watch Time'].str.replace('min','').astype(int)"
   ]
  },
  {
   "cell_type": "code",
   "execution_count": 12,
   "id": "e4acbf51",
   "metadata": {},
   "outputs": [
    {
     "data": {
      "text/plain": [
       "0       142\n",
       "1       175\n",
       "2       135\n",
       "3        87\n",
       "4       152\n",
       "       ... \n",
       "9995    114\n",
       "9996     86\n",
       "9997     97\n",
       "9998     89\n",
       "9999    101\n",
       "Name: Watch Time, Length: 10000, dtype: int32"
      ]
     },
     "execution_count": 12,
     "metadata": {},
     "output_type": "execute_result"
    }
   ],
   "source": [
    "df['Watch Time']"
   ]
  },
  {
   "cell_type": "markdown",
   "id": "22c315e4",
   "metadata": {},
   "source": [
    "Treating gross variable"
   ]
  },
  {
   "cell_type": "code",
   "execution_count": 13,
   "id": "ffdd2575",
   "metadata": {},
   "outputs": [],
   "source": [
    "df['Gross']=df['Gross'].str.replace('$','')\n",
    "df['Gross']=df['Gross'].str.replace('M','')\n",
    "df['Gross']=df['Gross'].str.replace('%^%^%^','0', regex=False)\n",
    "df['Gross']=df['Gross'].str.replace('.','')\n",
    "df['Gross']=df['Gross'].str.replace('#','')\n",
    "#df['Gross']=df['Gross'].str.replace('0',)\n",
    "\n",
    "\n",
    "\n",
    "df['Gross']=df['Gross'].astype(float)"
   ]
  },
  {
   "cell_type": "code",
   "execution_count": 14,
   "id": "aa64fedb",
   "metadata": {},
   "outputs": [],
   "source": [
    "mean=df['Gross'].mean()"
   ]
  },
  {
   "cell_type": "code",
   "execution_count": 15,
   "id": "478a296a",
   "metadata": {},
   "outputs": [
    {
     "data": {
      "text/plain": [
       "2843.9823"
      ]
     },
     "execution_count": 15,
     "metadata": {},
     "output_type": "execute_result"
    }
   ],
   "source": [
    "mean"
   ]
  },
  {
   "cell_type": "code",
   "execution_count": 16,
   "id": "a1953ac0",
   "metadata": {},
   "outputs": [
    {
     "data": {
      "text/plain": [
       "0        2834.0000\n",
       "1       13497.0000\n",
       "2        2843.9823\n",
       "3        2843.9823\n",
       "4       53486.0000\n",
       "           ...    \n",
       "9995     2843.9823\n",
       "9996     1158.0000\n",
       "9997     4334.0000\n",
       "9998     5866.0000\n",
       "9999     6602.0000\n",
       "Name: Gross, Length: 10000, dtype: float64"
      ]
     },
     "execution_count": 16,
     "metadata": {},
     "output_type": "execute_result"
    }
   ],
   "source": [
    "df['Gross']=df['Gross'].replace(0,mean)\n",
    "df['Gross']"
   ]
  },
  {
   "cell_type": "markdown",
   "id": "147a7f5c",
   "metadata": {},
   "source": [
    "Treating movie rating value"
   ]
  },
  {
   "cell_type": "code",
   "execution_count": 17,
   "id": "36923ebc",
   "metadata": {},
   "outputs": [
    {
     "data": {
      "text/plain": [
       "0"
      ]
     },
     "execution_count": 17,
     "metadata": {},
     "output_type": "execute_result"
    }
   ],
   "source": [
    "df['Movie Rating'].isnull().sum()"
   ]
  },
  {
   "cell_type": "code",
   "execution_count": 18,
   "id": "9245e487",
   "metadata": {},
   "outputs": [],
   "source": [
    "df['Movie Rating']=df['Movie Rating'].astype(float)"
   ]
  },
  {
   "cell_type": "markdown",
   "id": "f8783662",
   "metadata": {},
   "source": [
    "Treating Metascore variable\n"
   ]
  },
  {
   "cell_type": "code",
   "execution_count": 19,
   "id": "aae85fb0",
   "metadata": {},
   "outputs": [],
   "source": [
    "df['Meatscore of movie']=df['Meatscore of movie'].replace('****','0')"
   ]
  },
  {
   "cell_type": "code",
   "execution_count": 20,
   "id": "ab600211",
   "metadata": {},
   "outputs": [
    {
     "data": {
      "text/plain": [
       "0"
      ]
     },
     "execution_count": 20,
     "metadata": {},
     "output_type": "execute_result"
    }
   ],
   "source": [
    "df['Meatscore of movie'].isnull().sum()"
   ]
  },
  {
   "cell_type": "code",
   "execution_count": 21,
   "id": "98357316",
   "metadata": {},
   "outputs": [],
   "source": [
    "df['Meatscore of movie']=df['Meatscore of movie'].astype(float)"
   ]
  },
  {
   "cell_type": "code",
   "execution_count": 22,
   "id": "a9013d97",
   "metadata": {},
   "outputs": [],
   "source": [
    "mean_metascore=df['Meatscore of movie'].mean()"
   ]
  },
  {
   "cell_type": "code",
   "execution_count": 23,
   "id": "fabb8acb",
   "metadata": {},
   "outputs": [],
   "source": [
    "df['Meatscore of movie']=df['Meatscore of movie'].replace(0,mean_metascore)"
   ]
  },
  {
   "cell_type": "markdown",
   "id": "68d17858",
   "metadata": {},
   "source": [
    "Info of df "
   ]
  },
  {
   "cell_type": "code",
   "execution_count": 24,
   "id": "4e51d316",
   "metadata": {
    "scrolled": true
   },
   "outputs": [
    {
     "name": "stdout",
     "output_type": "stream",
     "text": [
      "<class 'pandas.core.frame.DataFrame'>\n",
      "RangeIndex: 10000 entries, 0 to 9999\n",
      "Data columns (total 12 columns):\n",
      " #   Column              Non-Null Count  Dtype  \n",
      "---  ------              --------------  -----  \n",
      " 0   Movie Name          10000 non-null  object \n",
      " 1   Genre               10000 non-null  object \n",
      " 2   Year of Release     10000 non-null  int32  \n",
      " 3   Certificate         10000 non-null  object \n",
      " 4   Watch Time          10000 non-null  int32  \n",
      " 5   Movie Rating        10000 non-null  float64\n",
      " 6   Meatscore of movie  10000 non-null  float64\n",
      " 7   Votes               10000 non-null  int32  \n",
      " 8   Gross               10000 non-null  float64\n",
      " 9   Description         10000 non-null  object \n",
      " 10  Director Name       10000 non-null  object \n",
      " 11  Stars               10000 non-null  object \n",
      "dtypes: float64(3), int32(3), object(6)\n",
      "memory usage: 820.4+ KB\n"
     ]
    }
   ],
   "source": [
    "df.info()"
   ]
  },
  {
   "cell_type": "code",
   "execution_count": 25,
   "id": "85ea64b4",
   "metadata": {},
   "outputs": [],
   "source": [
    "STARS=[]\n",
    "\n",
    "for i in df['Stars']:\n",
    "    string = ''.join(i)\n",
    "    STARS.append(string)"
   ]
  },
  {
   "cell_type": "code",
   "execution_count": 26,
   "id": "8ba92ce8",
   "metadata": {},
   "outputs": [],
   "source": [
    "df['STARS']=STARS"
   ]
  },
  {
   "cell_type": "code",
   "execution_count": 27,
   "id": "298ecc1e",
   "metadata": {},
   "outputs": [
    {
     "data": {
      "text/html": [
       "<div>\n",
       "<style scoped>\n",
       "    .dataframe tbody tr th:only-of-type {\n",
       "        vertical-align: middle;\n",
       "    }\n",
       "\n",
       "    .dataframe tbody tr th {\n",
       "        vertical-align: top;\n",
       "    }\n",
       "\n",
       "    .dataframe thead th {\n",
       "        text-align: right;\n",
       "    }\n",
       "</style>\n",
       "<table border=\"1\" class=\"dataframe\">\n",
       "  <thead>\n",
       "    <tr style=\"text-align: right;\">\n",
       "      <th></th>\n",
       "      <th>Movie Name</th>\n",
       "      <th>Genre</th>\n",
       "      <th>Year of Release</th>\n",
       "      <th>Certificate</th>\n",
       "      <th>Watch Time</th>\n",
       "      <th>Movie Rating</th>\n",
       "      <th>Meatscore of movie</th>\n",
       "      <th>Votes</th>\n",
       "      <th>Gross</th>\n",
       "      <th>Description</th>\n",
       "      <th>Director Name</th>\n",
       "      <th>Stars</th>\n",
       "      <th>STARS</th>\n",
       "    </tr>\n",
       "  </thead>\n",
       "  <tbody>\n",
       "    <tr>\n",
       "      <th>0</th>\n",
       "      <td>The Shawshank Redemption</td>\n",
       "      <td>Drama</td>\n",
       "      <td>1994</td>\n",
       "      <td>A</td>\n",
       "      <td>142</td>\n",
       "      <td>9.3</td>\n",
       "      <td>82.0000</td>\n",
       "      <td>2813477</td>\n",
       "      <td>2834.0000</td>\n",
       "      <td>Over the course of several years, two convicts...</td>\n",
       "      <td>Frank Darabont</td>\n",
       "      <td>[Tim Robbins, Morgan Freeman, Bob Gunton, Will...</td>\n",
       "      <td>Tim RobbinsMorgan FreemanBob GuntonWilliam Sadler</td>\n",
       "    </tr>\n",
       "    <tr>\n",
       "      <th>1</th>\n",
       "      <td>The Godfather</td>\n",
       "      <td>Crime, Drama</td>\n",
       "      <td>1972</td>\n",
       "      <td>A</td>\n",
       "      <td>175</td>\n",
       "      <td>9.2</td>\n",
       "      <td>100.0000</td>\n",
       "      <td>1960785</td>\n",
       "      <td>13497.0000</td>\n",
       "      <td>Don Vito Corleone, head of a mafia family, dec...</td>\n",
       "      <td>Francis Ford Coppola</td>\n",
       "      <td>[Marlon Brando, Al Pacino, James Caan, Diane K...</td>\n",
       "      <td>Marlon BrandoAl PacinoJames CaanDiane Keaton</td>\n",
       "    </tr>\n",
       "    <tr>\n",
       "      <th>2</th>\n",
       "      <td>Ramayana: The Legend of Prince Rama</td>\n",
       "      <td>Animation, Action, Adventure</td>\n",
       "      <td>1993</td>\n",
       "      <td>U</td>\n",
       "      <td>135</td>\n",
       "      <td>9.2</td>\n",
       "      <td>47.2817</td>\n",
       "      <td>13146</td>\n",
       "      <td>2843.9823</td>\n",
       "      <td>An anime adaptation of the Hindu epic the Rama...</td>\n",
       "      <td>Directors:Ram Mohan, Yûgô Sakô, Koichi Saski</td>\n",
       "      <td>[Arun Govil, Nikhil Kapoor, Edie Mirman, Rael ...</td>\n",
       "      <td>Arun GovilNikhil KapoorEdie MirmanRael Padamsee</td>\n",
       "    </tr>\n",
       "    <tr>\n",
       "      <th>3</th>\n",
       "      <td>Hababam Sinifi</td>\n",
       "      <td>Comedy, Drama</td>\n",
       "      <td>1975</td>\n",
       "      <td>R</td>\n",
       "      <td>87</td>\n",
       "      <td>9.2</td>\n",
       "      <td>47.2817</td>\n",
       "      <td>42295</td>\n",
       "      <td>2843.9823</td>\n",
       "      <td>Lazy, uneducated students share a very close b...</td>\n",
       "      <td>Ertem Egilmez</td>\n",
       "      <td>[Kemal Sunal, Münir Özkul, Halit Akçatepe, Tar...</td>\n",
       "      <td>Kemal SunalMünir ÖzkulHalit AkçatepeTarik Akan</td>\n",
       "    </tr>\n",
       "    <tr>\n",
       "      <th>4</th>\n",
       "      <td>The Dark Knight</td>\n",
       "      <td>Action, Crime, Drama</td>\n",
       "      <td>2008</td>\n",
       "      <td>UA</td>\n",
       "      <td>152</td>\n",
       "      <td>9.0</td>\n",
       "      <td>84.0000</td>\n",
       "      <td>2795162</td>\n",
       "      <td>53486.0000</td>\n",
       "      <td>When the menace known as the Joker wreaks havo...</td>\n",
       "      <td>Christopher Nolan</td>\n",
       "      <td>[Christian Bale, Heath Ledger, Aaron Eckhart, ...</td>\n",
       "      <td>Christian BaleHeath LedgerAaron EckhartMichael...</td>\n",
       "    </tr>\n",
       "  </tbody>\n",
       "</table>\n",
       "</div>"
      ],
      "text/plain": [
       "                            Movie Name  \\\n",
       "0             The Shawshank Redemption   \n",
       "1                        The Godfather   \n",
       "2  Ramayana: The Legend of Prince Rama   \n",
       "3                       Hababam Sinifi   \n",
       "4                      The Dark Knight   \n",
       "\n",
       "                                      Genre  Year of Release Certificate  \\\n",
       "0                         Drama                         1994           A   \n",
       "1                  Crime, Drama                         1972           A   \n",
       "2  Animation, Action, Adventure                         1993           U   \n",
       "3                 Comedy, Drama                         1975           R   \n",
       "4          Action, Crime, Drama                         2008          UA   \n",
       "\n",
       "   Watch Time  Movie Rating  Meatscore of movie    Votes       Gross  \\\n",
       "0         142           9.3             82.0000  2813477   2834.0000   \n",
       "1         175           9.2            100.0000  1960785  13497.0000   \n",
       "2         135           9.2             47.2817    13146   2843.9823   \n",
       "3          87           9.2             47.2817    42295   2843.9823   \n",
       "4         152           9.0             84.0000  2795162  53486.0000   \n",
       "\n",
       "                                         Description  \\\n",
       "0  Over the course of several years, two convicts...   \n",
       "1  Don Vito Corleone, head of a mafia family, dec...   \n",
       "2  An anime adaptation of the Hindu epic the Rama...   \n",
       "3  Lazy, uneducated students share a very close b...   \n",
       "4  When the menace known as the Joker wreaks havo...   \n",
       "\n",
       "                                  Director Name  \\\n",
       "0                                Frank Darabont   \n",
       "1                          Francis Ford Coppola   \n",
       "2  Directors:Ram Mohan, Yûgô Sakô, Koichi Saski   \n",
       "3                                 Ertem Egilmez   \n",
       "4                             Christopher Nolan   \n",
       "\n",
       "                                               Stars  \\\n",
       "0  [Tim Robbins, Morgan Freeman, Bob Gunton, Will...   \n",
       "1  [Marlon Brando, Al Pacino, James Caan, Diane K...   \n",
       "2  [Arun Govil, Nikhil Kapoor, Edie Mirman, Rael ...   \n",
       "3  [Kemal Sunal, Münir Özkul, Halit Akçatepe, Tar...   \n",
       "4  [Christian Bale, Heath Ledger, Aaron Eckhart, ...   \n",
       "\n",
       "                                               STARS  \n",
       "0  Tim RobbinsMorgan FreemanBob GuntonWilliam Sadler  \n",
       "1       Marlon BrandoAl PacinoJames CaanDiane Keaton  \n",
       "2    Arun GovilNikhil KapoorEdie MirmanRael Padamsee  \n",
       "3     Kemal SunalMünir ÖzkulHalit AkçatepeTarik Akan  \n",
       "4  Christian BaleHeath LedgerAaron EckhartMichael...  "
      ]
     },
     "execution_count": 27,
     "metadata": {},
     "output_type": "execute_result"
    }
   ],
   "source": [
    "df.head()"
   ]
  },
  {
   "cell_type": "code",
   "execution_count": 28,
   "id": "a88389a7",
   "metadata": {},
   "outputs": [],
   "source": [
    "df.drop(columns='Stars',axis=1,inplace=True)"
   ]
  },
  {
   "cell_type": "code",
   "execution_count": 29,
   "id": "6324358c",
   "metadata": {},
   "outputs": [
    {
     "data": {
      "text/html": [
       "<div>\n",
       "<style scoped>\n",
       "    .dataframe tbody tr th:only-of-type {\n",
       "        vertical-align: middle;\n",
       "    }\n",
       "\n",
       "    .dataframe tbody tr th {\n",
       "        vertical-align: top;\n",
       "    }\n",
       "\n",
       "    .dataframe thead th {\n",
       "        text-align: right;\n",
       "    }\n",
       "</style>\n",
       "<table border=\"1\" class=\"dataframe\">\n",
       "  <thead>\n",
       "    <tr style=\"text-align: right;\">\n",
       "      <th></th>\n",
       "      <th>Movie Name</th>\n",
       "      <th>Genre</th>\n",
       "      <th>Year of Release</th>\n",
       "      <th>Certificate</th>\n",
       "      <th>Watch Time</th>\n",
       "      <th>Movie Rating</th>\n",
       "      <th>Meatscore of movie</th>\n",
       "      <th>Votes</th>\n",
       "      <th>Gross</th>\n",
       "      <th>Description</th>\n",
       "      <th>Director Name</th>\n",
       "      <th>STARS</th>\n",
       "    </tr>\n",
       "  </thead>\n",
       "  <tbody>\n",
       "    <tr>\n",
       "      <th>0</th>\n",
       "      <td>The Shawshank Redemption</td>\n",
       "      <td>Drama</td>\n",
       "      <td>1994</td>\n",
       "      <td>A</td>\n",
       "      <td>142</td>\n",
       "      <td>9.3</td>\n",
       "      <td>82.0000</td>\n",
       "      <td>2813477</td>\n",
       "      <td>2834.0000</td>\n",
       "      <td>Over the course of several years, two convicts...</td>\n",
       "      <td>Frank Darabont</td>\n",
       "      <td>Tim RobbinsMorgan FreemanBob GuntonWilliam Sadler</td>\n",
       "    </tr>\n",
       "    <tr>\n",
       "      <th>1</th>\n",
       "      <td>The Godfather</td>\n",
       "      <td>Crime, Drama</td>\n",
       "      <td>1972</td>\n",
       "      <td>A</td>\n",
       "      <td>175</td>\n",
       "      <td>9.2</td>\n",
       "      <td>100.0000</td>\n",
       "      <td>1960785</td>\n",
       "      <td>13497.0000</td>\n",
       "      <td>Don Vito Corleone, head of a mafia family, dec...</td>\n",
       "      <td>Francis Ford Coppola</td>\n",
       "      <td>Marlon BrandoAl PacinoJames CaanDiane Keaton</td>\n",
       "    </tr>\n",
       "    <tr>\n",
       "      <th>2</th>\n",
       "      <td>Ramayana: The Legend of Prince Rama</td>\n",
       "      <td>Animation, Action, Adventure</td>\n",
       "      <td>1993</td>\n",
       "      <td>U</td>\n",
       "      <td>135</td>\n",
       "      <td>9.2</td>\n",
       "      <td>47.2817</td>\n",
       "      <td>13146</td>\n",
       "      <td>2843.9823</td>\n",
       "      <td>An anime adaptation of the Hindu epic the Rama...</td>\n",
       "      <td>Directors:Ram Mohan, Yûgô Sakô, Koichi Saski</td>\n",
       "      <td>Arun GovilNikhil KapoorEdie MirmanRael Padamsee</td>\n",
       "    </tr>\n",
       "    <tr>\n",
       "      <th>3</th>\n",
       "      <td>Hababam Sinifi</td>\n",
       "      <td>Comedy, Drama</td>\n",
       "      <td>1975</td>\n",
       "      <td>R</td>\n",
       "      <td>87</td>\n",
       "      <td>9.2</td>\n",
       "      <td>47.2817</td>\n",
       "      <td>42295</td>\n",
       "      <td>2843.9823</td>\n",
       "      <td>Lazy, uneducated students share a very close b...</td>\n",
       "      <td>Ertem Egilmez</td>\n",
       "      <td>Kemal SunalMünir ÖzkulHalit AkçatepeTarik Akan</td>\n",
       "    </tr>\n",
       "    <tr>\n",
       "      <th>4</th>\n",
       "      <td>The Dark Knight</td>\n",
       "      <td>Action, Crime, Drama</td>\n",
       "      <td>2008</td>\n",
       "      <td>UA</td>\n",
       "      <td>152</td>\n",
       "      <td>9.0</td>\n",
       "      <td>84.0000</td>\n",
       "      <td>2795162</td>\n",
       "      <td>53486.0000</td>\n",
       "      <td>When the menace known as the Joker wreaks havo...</td>\n",
       "      <td>Christopher Nolan</td>\n",
       "      <td>Christian BaleHeath LedgerAaron EckhartMichael...</td>\n",
       "    </tr>\n",
       "  </tbody>\n",
       "</table>\n",
       "</div>"
      ],
      "text/plain": [
       "                            Movie Name  \\\n",
       "0             The Shawshank Redemption   \n",
       "1                        The Godfather   \n",
       "2  Ramayana: The Legend of Prince Rama   \n",
       "3                       Hababam Sinifi   \n",
       "4                      The Dark Knight   \n",
       "\n",
       "                                      Genre  Year of Release Certificate  \\\n",
       "0                         Drama                         1994           A   \n",
       "1                  Crime, Drama                         1972           A   \n",
       "2  Animation, Action, Adventure                         1993           U   \n",
       "3                 Comedy, Drama                         1975           R   \n",
       "4          Action, Crime, Drama                         2008          UA   \n",
       "\n",
       "   Watch Time  Movie Rating  Meatscore of movie    Votes       Gross  \\\n",
       "0         142           9.3             82.0000  2813477   2834.0000   \n",
       "1         175           9.2            100.0000  1960785  13497.0000   \n",
       "2         135           9.2             47.2817    13146   2843.9823   \n",
       "3          87           9.2             47.2817    42295   2843.9823   \n",
       "4         152           9.0             84.0000  2795162  53486.0000   \n",
       "\n",
       "                                         Description  \\\n",
       "0  Over the course of several years, two convicts...   \n",
       "1  Don Vito Corleone, head of a mafia family, dec...   \n",
       "2  An anime adaptation of the Hindu epic the Rama...   \n",
       "3  Lazy, uneducated students share a very close b...   \n",
       "4  When the menace known as the Joker wreaks havo...   \n",
       "\n",
       "                                  Director Name  \\\n",
       "0                                Frank Darabont   \n",
       "1                          Francis Ford Coppola   \n",
       "2  Directors:Ram Mohan, Yûgô Sakô, Koichi Saski   \n",
       "3                                 Ertem Egilmez   \n",
       "4                             Christopher Nolan   \n",
       "\n",
       "                                               STARS  \n",
       "0  Tim RobbinsMorgan FreemanBob GuntonWilliam Sadler  \n",
       "1       Marlon BrandoAl PacinoJames CaanDiane Keaton  \n",
       "2    Arun GovilNikhil KapoorEdie MirmanRael Padamsee  \n",
       "3     Kemal SunalMünir ÖzkulHalit AkçatepeTarik Akan  \n",
       "4  Christian BaleHeath LedgerAaron EckhartMichael...  "
      ]
     },
     "execution_count": 29,
     "metadata": {},
     "output_type": "execute_result"
    }
   ],
   "source": [
    "df.head()"
   ]
  },
  {
   "cell_type": "code",
   "execution_count": 30,
   "id": "2ef06798",
   "metadata": {},
   "outputs": [],
   "source": [
    "index=[]\n",
    "\n",
    "for i in range(0,len(df['Genre'])):\n",
    "    indices = i\n",
    "    index.append(indices)"
   ]
  },
  {
   "cell_type": "code",
   "execution_count": 31,
   "id": "f22aaa71",
   "metadata": {},
   "outputs": [],
   "source": [
    "df['index']=index"
   ]
  },
  {
   "cell_type": "code",
   "execution_count": 32,
   "id": "8cccf4b2",
   "metadata": {},
   "outputs": [
    {
     "data": {
      "text/html": [
       "<div>\n",
       "<style scoped>\n",
       "    .dataframe tbody tr th:only-of-type {\n",
       "        vertical-align: middle;\n",
       "    }\n",
       "\n",
       "    .dataframe tbody tr th {\n",
       "        vertical-align: top;\n",
       "    }\n",
       "\n",
       "    .dataframe thead th {\n",
       "        text-align: right;\n",
       "    }\n",
       "</style>\n",
       "<table border=\"1\" class=\"dataframe\">\n",
       "  <thead>\n",
       "    <tr style=\"text-align: right;\">\n",
       "      <th></th>\n",
       "      <th>Movie Name</th>\n",
       "      <th>Genre</th>\n",
       "      <th>Year of Release</th>\n",
       "      <th>Certificate</th>\n",
       "      <th>Watch Time</th>\n",
       "      <th>Movie Rating</th>\n",
       "      <th>Meatscore of movie</th>\n",
       "      <th>Votes</th>\n",
       "      <th>Gross</th>\n",
       "      <th>Description</th>\n",
       "      <th>Director Name</th>\n",
       "      <th>STARS</th>\n",
       "      <th>index</th>\n",
       "    </tr>\n",
       "  </thead>\n",
       "  <tbody>\n",
       "    <tr>\n",
       "      <th>9995</th>\n",
       "      <td>2067</td>\n",
       "      <td>Mystery, Sci-Fi</td>\n",
       "      <td>2020</td>\n",
       "      <td>A</td>\n",
       "      <td>114</td>\n",
       "      <td>4.9</td>\n",
       "      <td>39.0</td>\n",
       "      <td>11169</td>\n",
       "      <td>2843.9823</td>\n",
       "      <td>One man's journey to the future to save a dyin...</td>\n",
       "      <td>Seth Larney</td>\n",
       "      <td>Aaron GlenaneKodi Smit-McPheeRyan KwantenFinn ...</td>\n",
       "      <td>9995</td>\n",
       "    </tr>\n",
       "    <tr>\n",
       "      <th>9996</th>\n",
       "      <td>Graveyard Shift</td>\n",
       "      <td>Horror</td>\n",
       "      <td>1990</td>\n",
       "      <td>A</td>\n",
       "      <td>86</td>\n",
       "      <td>4.9</td>\n",
       "      <td>28.0</td>\n",
       "      <td>12337</td>\n",
       "      <td>1158.0000</td>\n",
       "      <td>In a very old textile mill with a serious rat ...</td>\n",
       "      <td>Ralph S. Singleton</td>\n",
       "      <td>David AndrewsKelly WolfStephen MachtAndrew Divoff</td>\n",
       "      <td>9996</td>\n",
       "    </tr>\n",
       "    <tr>\n",
       "      <th>9997</th>\n",
       "      <td>Year One</td>\n",
       "      <td>Comedy</td>\n",
       "      <td>2009</td>\n",
       "      <td>UA</td>\n",
       "      <td>97</td>\n",
       "      <td>4.9</td>\n",
       "      <td>34.0</td>\n",
       "      <td>101860</td>\n",
       "      <td>4334.0000</td>\n",
       "      <td>After being banished from their tribe, two hun...</td>\n",
       "      <td>Harold Ramis</td>\n",
       "      <td>Jack BlackMichael CeraOlivia WildeOliver Platt</td>\n",
       "      <td>9997</td>\n",
       "    </tr>\n",
       "    <tr>\n",
       "      <th>9998</th>\n",
       "      <td>Honey, I Blew Up the Kid</td>\n",
       "      <td>Adventure, Comedy, Family</td>\n",
       "      <td>1992</td>\n",
       "      <td>U</td>\n",
       "      <td>89</td>\n",
       "      <td>4.9</td>\n",
       "      <td>50.0</td>\n",
       "      <td>46086</td>\n",
       "      <td>5866.0000</td>\n",
       "      <td>The Szalinski family is back, this time hilari...</td>\n",
       "      <td>Randal Kleiser</td>\n",
       "      <td>Rick MoranisMarcia StrassmanRobert OliveriDani...</td>\n",
       "      <td>9998</td>\n",
       "    </tr>\n",
       "    <tr>\n",
       "      <th>9999</th>\n",
       "      <td>Herbie Fully Loaded</td>\n",
       "      <td>Adventure, Comedy, Family</td>\n",
       "      <td>2005</td>\n",
       "      <td>U</td>\n",
       "      <td>101</td>\n",
       "      <td>4.9</td>\n",
       "      <td>47.0</td>\n",
       "      <td>49988</td>\n",
       "      <td>6602.0000</td>\n",
       "      <td>Maggie Peyton, the new owner of Herbie, Number...</td>\n",
       "      <td>Angela Robinson</td>\n",
       "      <td>Lindsay LohanMichael KeatonCheryl HinesBreckin...</td>\n",
       "      <td>9999</td>\n",
       "    </tr>\n",
       "  </tbody>\n",
       "</table>\n",
       "</div>"
      ],
      "text/plain": [
       "                    Movie Name                                  Genre  \\\n",
       "9995                      2067            Mystery, Sci-Fi               \n",
       "9996           Graveyard Shift                     Horror               \n",
       "9997                  Year One                     Comedy               \n",
       "9998  Honey, I Blew Up the Kid  Adventure, Comedy, Family               \n",
       "9999       Herbie Fully Loaded  Adventure, Comedy, Family               \n",
       "\n",
       "      Year of Release Certificate  Watch Time  Movie Rating  \\\n",
       "9995             2020           A         114           4.9   \n",
       "9996             1990           A          86           4.9   \n",
       "9997             2009          UA          97           4.9   \n",
       "9998             1992           U          89           4.9   \n",
       "9999             2005           U         101           4.9   \n",
       "\n",
       "      Meatscore of movie   Votes      Gross  \\\n",
       "9995                39.0   11169  2843.9823   \n",
       "9996                28.0   12337  1158.0000   \n",
       "9997                34.0  101860  4334.0000   \n",
       "9998                50.0   46086  5866.0000   \n",
       "9999                47.0   49988  6602.0000   \n",
       "\n",
       "                                            Description       Director Name  \\\n",
       "9995  One man's journey to the future to save a dyin...         Seth Larney   \n",
       "9996  In a very old textile mill with a serious rat ...  Ralph S. Singleton   \n",
       "9997  After being banished from their tribe, two hun...        Harold Ramis   \n",
       "9998  The Szalinski family is back, this time hilari...      Randal Kleiser   \n",
       "9999  Maggie Peyton, the new owner of Herbie, Number...     Angela Robinson   \n",
       "\n",
       "                                                  STARS  index  \n",
       "9995  Aaron GlenaneKodi Smit-McPheeRyan KwantenFinn ...   9995  \n",
       "9996  David AndrewsKelly WolfStephen MachtAndrew Divoff   9996  \n",
       "9997     Jack BlackMichael CeraOlivia WildeOliver Platt   9997  \n",
       "9998  Rick MoranisMarcia StrassmanRobert OliveriDani...   9998  \n",
       "9999  Lindsay LohanMichael KeatonCheryl HinesBreckin...   9999  "
      ]
     },
     "execution_count": 32,
     "metadata": {},
     "output_type": "execute_result"
    }
   ],
   "source": [
    "df.tail()"
   ]
  },
  {
   "cell_type": "markdown",
   "id": "1f058ae1",
   "metadata": {},
   "source": [
    "# EDA"
   ]
  },
  {
   "cell_type": "code",
   "execution_count": 33,
   "id": "a16cf9a3",
   "metadata": {},
   "outputs": [],
   "source": [
    "import seaborn as sns\n",
    "import matplotlib.pyplot as plt"
   ]
  },
  {
   "cell_type": "code",
   "execution_count": 34,
   "id": "ba94ddff",
   "metadata": {
    "scrolled": true
   },
   "outputs": [
    {
     "data": {
      "text/plain": [
       "Movie Name            0\n",
       "Genre                 0\n",
       "Year of Release       0\n",
       "Certificate           0\n",
       "Watch Time            0\n",
       "Movie Rating          0\n",
       "Meatscore of movie    0\n",
       "Votes                 0\n",
       "Gross                 0\n",
       "Description           0\n",
       "Director Name         0\n",
       "STARS                 0\n",
       "index                 0\n",
       "dtype: int64"
      ]
     },
     "execution_count": 34,
     "metadata": {},
     "output_type": "execute_result"
    }
   ],
   "source": [
    "df.isnull().sum()"
   ]
  },
  {
   "cell_type": "code",
   "execution_count": 35,
   "id": "8f089623",
   "metadata": {},
   "outputs": [
    {
     "data": {
      "text/html": [
       "<div>\n",
       "<style scoped>\n",
       "    .dataframe tbody tr th:only-of-type {\n",
       "        vertical-align: middle;\n",
       "    }\n",
       "\n",
       "    .dataframe tbody tr th {\n",
       "        vertical-align: top;\n",
       "    }\n",
       "\n",
       "    .dataframe thead th {\n",
       "        text-align: right;\n",
       "    }\n",
       "</style>\n",
       "<table border=\"1\" class=\"dataframe\">\n",
       "  <thead>\n",
       "    <tr style=\"text-align: right;\">\n",
       "      <th></th>\n",
       "      <th>Year of Release</th>\n",
       "      <th>Watch Time</th>\n",
       "      <th>Movie Rating</th>\n",
       "      <th>Meatscore of movie</th>\n",
       "      <th>Votes</th>\n",
       "      <th>Gross</th>\n",
       "      <th>index</th>\n",
       "    </tr>\n",
       "  </thead>\n",
       "  <tbody>\n",
       "    <tr>\n",
       "      <th>count</th>\n",
       "      <td>10000.00000</td>\n",
       "      <td>10000.000000</td>\n",
       "      <td>10000.000000</td>\n",
       "      <td>10000.000000</td>\n",
       "      <td>1.000000e+04</td>\n",
       "      <td>10000.000000</td>\n",
       "      <td>10000.00000</td>\n",
       "    </tr>\n",
       "    <tr>\n",
       "      <th>mean</th>\n",
       "      <td>2001.42190</td>\n",
       "      <td>110.876100</td>\n",
       "      <td>6.732340</td>\n",
       "      <td>56.823147</td>\n",
       "      <td>9.316653e+04</td>\n",
       "      <td>3690.920229</td>\n",
       "      <td>4999.50000</td>\n",
       "    </tr>\n",
       "    <tr>\n",
       "      <th>std</th>\n",
       "      <td>18.64153</td>\n",
       "      <td>22.087452</td>\n",
       "      <td>0.815332</td>\n",
       "      <td>16.132127</td>\n",
       "      <td>1.722230e+05</td>\n",
       "      <td>5699.026167</td>\n",
       "      <td>2886.89568</td>\n",
       "    </tr>\n",
       "    <tr>\n",
       "      <th>min</th>\n",
       "      <td>1915.00000</td>\n",
       "      <td>45.000000</td>\n",
       "      <td>4.900000</td>\n",
       "      <td>7.000000</td>\n",
       "      <td>1.000200e+04</td>\n",
       "      <td>1.000000</td>\n",
       "      <td>0.00000</td>\n",
       "    </tr>\n",
       "    <tr>\n",
       "      <th>25%</th>\n",
       "      <td>1994.00000</td>\n",
       "      <td>96.000000</td>\n",
       "      <td>6.100000</td>\n",
       "      <td>47.281700</td>\n",
       "      <td>1.692150e+04</td>\n",
       "      <td>700.000000</td>\n",
       "      <td>2499.75000</td>\n",
       "    </tr>\n",
       "    <tr>\n",
       "      <th>50%</th>\n",
       "      <td>2007.00000</td>\n",
       "      <td>107.000000</td>\n",
       "      <td>6.700000</td>\n",
       "      <td>53.000000</td>\n",
       "      <td>3.435050e+04</td>\n",
       "      <td>2843.982300</td>\n",
       "      <td>4999.50000</td>\n",
       "    </tr>\n",
       "    <tr>\n",
       "      <th>75%</th>\n",
       "      <td>2015.00000</td>\n",
       "      <td>121.000000</td>\n",
       "      <td>7.300000</td>\n",
       "      <td>68.000000</td>\n",
       "      <td>9.196150e+04</td>\n",
       "      <td>3259.250000</td>\n",
       "      <td>7499.25000</td>\n",
       "    </tr>\n",
       "    <tr>\n",
       "      <th>max</th>\n",
       "      <td>2023.00000</td>\n",
       "      <td>439.000000</td>\n",
       "      <td>9.300000</td>\n",
       "      <td>100.000000</td>\n",
       "      <td>2.813477e+06</td>\n",
       "      <td>93666.000000</td>\n",
       "      <td>9999.00000</td>\n",
       "    </tr>\n",
       "  </tbody>\n",
       "</table>\n",
       "</div>"
      ],
      "text/plain": [
       "       Year of Release    Watch Time  Movie Rating  Meatscore of movie  \\\n",
       "count      10000.00000  10000.000000  10000.000000        10000.000000   \n",
       "mean        2001.42190    110.876100      6.732340           56.823147   \n",
       "std           18.64153     22.087452      0.815332           16.132127   \n",
       "min         1915.00000     45.000000      4.900000            7.000000   \n",
       "25%         1994.00000     96.000000      6.100000           47.281700   \n",
       "50%         2007.00000    107.000000      6.700000           53.000000   \n",
       "75%         2015.00000    121.000000      7.300000           68.000000   \n",
       "max         2023.00000    439.000000      9.300000          100.000000   \n",
       "\n",
       "              Votes         Gross        index  \n",
       "count  1.000000e+04  10000.000000  10000.00000  \n",
       "mean   9.316653e+04   3690.920229   4999.50000  \n",
       "std    1.722230e+05   5699.026167   2886.89568  \n",
       "min    1.000200e+04      1.000000      0.00000  \n",
       "25%    1.692150e+04    700.000000   2499.75000  \n",
       "50%    3.435050e+04   2843.982300   4999.50000  \n",
       "75%    9.196150e+04   3259.250000   7499.25000  \n",
       "max    2.813477e+06  93666.000000   9999.00000  "
      ]
     },
     "execution_count": 35,
     "metadata": {},
     "output_type": "execute_result"
    }
   ],
   "source": [
    "df.describe()"
   ]
  },
  {
   "cell_type": "code",
   "execution_count": 36,
   "id": "9c859ced",
   "metadata": {},
   "outputs": [
    {
     "data": {
      "text/plain": [
       "0               The Shawshank Redemption\n",
       "1                          The Godfather\n",
       "2    Ramayana: The Legend of Prince Rama\n",
       "3                         Hababam Sinifi\n",
       "4                        The Dark Knight\n",
       "Name: Movie Name, dtype: object"
      ]
     },
     "execution_count": 36,
     "metadata": {},
     "output_type": "execute_result"
    }
   ],
   "source": [
    "df['Movie Name'].head()"
   ]
  },
  {
   "cell_type": "code",
   "execution_count": 37,
   "id": "d2f0a16b",
   "metadata": {},
   "outputs": [
    {
     "data": {
      "text/plain": [
       "9995                        2067\n",
       "9996             Graveyard Shift\n",
       "9997                    Year One\n",
       "9998    Honey, I Blew Up the Kid\n",
       "9999         Herbie Fully Loaded\n",
       "Name: Movie Name, dtype: object"
      ]
     },
     "execution_count": 37,
     "metadata": {},
     "output_type": "execute_result"
    }
   ],
   "source": [
    "df['Movie Name'].tail()"
   ]
  },
  {
   "cell_type": "code",
   "execution_count": 38,
   "id": "af2e0ee9",
   "metadata": {},
   "outputs": [
    {
     "name": "stdout",
     "output_type": "stream",
     "text": [
      "No. of rows: 10000\n",
      "No. of column: 13\n"
     ]
    }
   ],
   "source": [
    "print(\"No. of rows:\", df.shape[0])\n",
    "print(\"No. of column:\" ,df.shape[1])"
   ]
  },
  {
   "cell_type": "code",
   "execution_count": 39,
   "id": "05f9e416",
   "metadata": {},
   "outputs": [
    {
     "data": {
      "text/plain": [
       "False"
      ]
     },
     "execution_count": 39,
     "metadata": {},
     "output_type": "execute_result"
    }
   ],
   "source": [
    "df.duplicated().any()"
   ]
  },
  {
   "cell_type": "code",
   "execution_count": 40,
   "id": "79337266",
   "metadata": {},
   "outputs": [],
   "source": [
    "import matplotlib.pyplot as plt"
   ]
  },
  {
   "cell_type": "code",
   "execution_count": 41,
   "id": "4b1dde0e",
   "metadata": {},
   "outputs": [
    {
     "data": {
      "image/png": "[encoded data removed]",
      "text/plain": [
       "<Figure size 640x480 with 1 Axes>"
      ]
     },
     "metadata": {},
     "output_type": "display_data"
    }
   ],
   "source": [
    "#Count of ratings given\n",
    "\n",
    "sns.histplot(df['Movie Rating'], bins=10, kde=True)\n",
    "plt.title('Distribution of Ratings')\n",
    "plt.xlabel('Ratings')\n",
    "plt.ylabel('Count')\n",
    "plt.show()"
   ]
  },
  {
   "cell_type": "code",
   "execution_count": 42,
   "id": "5ad7e8e2",
   "metadata": {},
   "outputs": [
    {
     "data": {
      "text/plain": [
       "0               The Shawshank Redemption\n",
       "1                          The Godfather\n",
       "2    Ramayana: The Legend of Prince Rama\n",
       "3                         Hababam Sinifi\n",
       "4                        The Dark Knight\n",
       "Name: Movie Name, dtype: object"
      ]
     },
     "execution_count": 42,
     "metadata": {},
     "output_type": "execute_result"
    }
   ],
   "source": [
    "# movies having rating grater than 9\n",
    "\n",
    "\n",
    "df[df['Movie Rating']>=9]['Movie Name'].head()"
   ]
  },
  {
   "cell_type": "code",
   "execution_count": 43,
   "id": "42f1aa6c",
   "metadata": {},
   "outputs": [
    {
     "data": {
      "text/plain": [
       "5                                  Schindler's List\n",
       "6     The Lord of the Rings: The Return of the King\n",
       "8                             The Godfather Part II\n",
       "13                                       Al-risâlah\n",
       "36               Kill Bill: The Whole Bloody Affair\n",
       "Name: Movie Name, dtype: object"
      ]
     },
     "execution_count": 43,
     "metadata": {},
     "output_type": "execute_result"
    }
   ],
   "source": [
    "# top 5 movies having run time grater than 180 minutes\n",
    "\n",
    "df[df['Watch Time']>=180]['Movie Name'].head()"
   ]
  },
  {
   "cell_type": "code",
   "execution_count": 44,
   "id": "b2f0333b",
   "metadata": {},
   "outputs": [
    {
     "data": {
      "text/plain": [
       "Year of Release\n",
       "1999    129890.505682\n",
       "1994    126421.367647\n",
       "2004    122496.074689\n",
       "2001    121991.888889\n",
       "2003    121673.522167\n",
       "Name: Votes, dtype: float64"
      ]
     },
     "execution_count": 44,
     "metadata": {},
     "output_type": "execute_result"
    }
   ],
   "source": [
    "#in which year there was the highest average voting\n",
    "df.groupby('Year of Release')['Votes'].mean().sort_values(ascending=False).head()"
   ]
  },
  {
   "cell_type": "code",
   "execution_count": 45,
   "id": "3c40af8a",
   "metadata": {},
   "outputs": [
    {
     "data": {
      "text/plain": [
       "Year of Release\n",
       "2019    4821.443761\n",
       "2022    4589.312482\n",
       "2003    4328.588866\n",
       "2002    4319.636753\n",
       "2000    4254.337422\n",
       "Name: Gross, dtype: float64"
      ]
     },
     "execution_count": 45,
     "metadata": {},
     "output_type": "execute_result"
    }
   ],
   "source": [
    "#in which year there was the highest revenue\n",
    "df.groupby('Year of Release')['Gross'].mean().sort_values(ascending=False).head()\n"
   ]
  },
  {
   "cell_type": "code",
   "execution_count": 46,
   "id": "ff45294f",
   "metadata": {},
   "outputs": [
    {
     "data": {
      "text/plain": [
       "Director Name\n",
       "Directors:Ram Mohan, Yûgô Sakô, Koichi Saski    9.2\n",
       "Amitabh Reza Chowdhury                          9.0\n",
       "Directors:Lenka Debiprasad, Vishal Mourya       9.0\n",
       "Kiranraj K                                      8.8\n",
       "T.J. Gnanavel                                   8.8\n",
       "Name: Movie Rating, dtype: float64"
      ]
     },
     "execution_count": 46,
     "metadata": {},
     "output_type": "execute_result"
    }
   ],
   "source": [
    "#Directors with highest average ratings\n",
    "\n",
    "director_rating = df.groupby('Director Name')['Movie Rating'].mean().sort_values(ascending=False).head()\n",
    "director_rating"
   ]
  },
  {
   "cell_type": "code",
   "execution_count": 47,
   "id": "3507340f",
   "metadata": {},
   "outputs": [],
   "source": [
    "#top 10 lenghty movies with runtime\n",
    "\n",
    "top10_len =df.nlargest(10,'Watch Time')[['Movie Name', 'Watch Time']].set_index('Movie Name')"
   ]
  },
  {
   "cell_type": "code",
   "execution_count": 48,
   "id": "e40cfbb3",
   "metadata": {},
   "outputs": [
    {
     "data": {
      "text/plain": [
       "<Axes: xlabel='Watch Time', ylabel='Movie Name'>"
      ]
     },
     "execution_count": 48,
     "metadata": {},
     "output_type": "execute_result"
    },
    {
     "data": {
      "image/png": "[encoded data removed]",
      "text/plain": [
       "<Figure size 640x480 with 1 Axes>"
      ]
     },
     "metadata": {},
     "output_type": "display_data"
    }
   ],
   "source": [
    "sns.barplot(x='Watch Time', y = top10_len.index, data=top10_len)"
   ]
  },
  {
   "cell_type": "code",
   "execution_count": 49,
   "id": "af55ed9a",
   "metadata": {},
   "outputs": [
    {
     "data": {
      "text/plain": [
       "Year of Release\n",
       "2018    350\n",
       "2014    346\n",
       "2013    337\n",
       "2016    336\n",
       "2017    329\n",
       "Name: count, dtype: int64"
      ]
     },
     "execution_count": 49,
     "metadata": {},
     "output_type": "execute_result"
    }
   ],
   "source": [
    "#no. of movies per year\n",
    "no_of_release =df['Year of Release'].value_counts().sort_values(ascending=False).head()\n",
    "no_of_release"
   ]
  },
  {
   "cell_type": "code",
   "execution_count": 50,
   "id": "5096ec44",
   "metadata": {},
   "outputs": [
    {
     "data": {
      "text/plain": [
       "904    Star Wars: Episode VII - The Force Awakens\n",
       "Name: Movie Name, dtype: object"
      ]
     },
     "execution_count": 50,
     "metadata": {},
     "output_type": "execute_result"
    }
   ],
   "source": [
    "#Movie with Highest revenue\n",
    "\n",
    "df[df['Gross'].max()==df['Gross']]['Movie Name']"
   ]
  },
  {
   "cell_type": "code",
   "execution_count": 51,
   "id": "25cbf4ce",
   "metadata": {},
   "outputs": [
    {
     "data": {
      "image/png": "[encoded data removed]",
      "text/plain": [
       "<Figure size 640x480 with 1 Axes>"
      ]
     },
     "metadata": {},
     "output_type": "display_data"
    }
   ],
   "source": [
    "#top 10 movies with highest revenue\n",
    "\n",
    "top10movies=df.nlargest(10,'Gross')[['Movie Name','Gross']].set_index('Movie Name')\n",
    "sns.barplot(x='Gross', y=top10movies.index, data=top10movies)\n",
    "plt.title('Top 10 Highest Movie Grosser')\n",
    "plt.show()"
   ]
  },
  {
   "cell_type": "code",
   "execution_count": 52,
   "id": "9dc6c59e",
   "metadata": {},
   "outputs": [
    {
     "data": {
      "text/plain": [
       "Genre\n",
       "Comedy, Drama, Romance                480\n",
       "Drama                                 427\n",
       "Comedy, Drama                         402\n",
       "Drama, Romance                        348\n",
       "Action, Crime, Drama                  327\n",
       "Name: count, dtype: int64"
      ]
     },
     "execution_count": 52,
     "metadata": {},
     "output_type": "execute_result"
    }
   ],
   "source": [
    "#Top 5 Genres\n",
    "\n",
    "df['Genre'].value_counts().sort_values(ascending=False).head()"
   ]
  },
  {
   "cell_type": "code",
   "execution_count": 53,
   "id": "ef25f37e",
   "metadata": {},
   "outputs": [
    {
     "data": {
      "text/plain": [
       "<Axes: xlabel='Gross', ylabel='Movie Rating'>"
      ]
     },
     "execution_count": 53,
     "metadata": {},
     "output_type": "execute_result"
    },
    {
     "data": {
      "image/png": "[encoded data removed]",
      "text/plain": [
       "<Figure size 640x480 with 1 Axes>"
      ]
     },
     "metadata": {},
     "output_type": "display_data"
    }
   ],
   "source": [
    "#does rating affect movies revenue\n",
    "\n",
    "sns.scatterplot(x='Gross', y='Movie Rating', data=df)"
   ]
  },
  {
   "cell_type": "markdown",
   "id": "c6b4f557",
   "metadata": {},
   "source": [
    "Yes, Movie Rating does affect the Movie's Collection"
   ]
  },
  {
   "cell_type": "raw",
   "id": "8cca39fb",
   "metadata": {},
   "source": [
    "Correlation"
   ]
  },
  {
   "cell_type": "code",
   "execution_count": 54,
   "id": "97b77f90",
   "metadata": {},
   "outputs": [],
   "source": [
    "df1=df[['Year of Release', 'Watch Time','Movie Rating','Meatscore of movie','Votes','Gross']]"
   ]
  },
  {
   "cell_type": "code",
   "execution_count": 55,
   "id": "1dbe18f3",
   "metadata": {},
   "outputs": [],
   "source": [
    "corr=df1.corr()"
   ]
  },
  {
   "cell_type": "code",
   "execution_count": 56,
   "id": "667de972",
   "metadata": {},
   "outputs": [
    {
     "data": {
      "text/plain": [
       "<Axes: >"
      ]
     },
     "execution_count": 56,
     "metadata": {},
     "output_type": "execute_result"
    },
    {
     "data": {
      "image/png": "[encoded data removed]",
      "text/plain": [
       "<Figure size 640x480 with 2 Axes>"
      ]
     },
     "metadata": {},
     "output_type": "display_data"
    }
   ],
   "source": [
    "sns.heatmap(corr, annot=True, cmap='winter')"
   ]
  },
  {
   "cell_type": "markdown",
   "id": "8f34c9b8",
   "metadata": {},
   "source": [
    "Model Building"
   ]
  },
  {
   "cell_type": "code",
   "execution_count": 59,
   "id": "77287769",
   "metadata": {},
   "outputs": [
    {
     "data": {
      "text/plain": [
       "Index(['Movie Name', 'Genre', 'Year of Release', 'Certificate', 'Watch Time',\n",
       "       'Movie Rating', 'Meatscore of movie', 'Votes', 'Gross', 'Description',\n",
       "       'Director Name', 'STARS', 'index'],\n",
       "      dtype='object')"
      ]
     },
     "execution_count": 59,
     "metadata": {},
     "output_type": "execute_result"
    }
   ],
   "source": [
    "df.columns"
   ]
  },
  {
   "cell_type": "code",
   "execution_count": 64,
   "id": "d959c697",
   "metadata": {},
   "outputs": [],
   "source": [
    "from sklearn.feature_extraction.text import TfidfVectorizer\n",
    "import difflib\n",
    "from sklearn.metrics.pairwise import cosine_similarity"
   ]
  },
  {
   "cell_type": "code",
   "execution_count": 113,
   "id": "bd33798a",
   "metadata": {},
   "outputs": [
    {
     "name": "stdout",
     "output_type": "stream",
     "text": [
      "Enter your favourite movie name: gangs of wasseypur\n",
      "Movies suggested for you : \n",
      "\n",
      "1 . Gangs of Wasseypur\n",
      "2 . Dabangg\n",
      "3 . Shootout at Lokhandwala\n",
      "4 . Main Hoon Na\n",
      "5 . Sholay\n"
     ]
    }
   ],
   "source": [
    "combined_features = df['Genre']+\" \"+df['Description']+' '+df['Director Name']+df['STARS']\n",
    "\n",
    "#transforming text data into vectors\n",
    "vectorizer = TfidfVectorizer()\n",
    "\n",
    "feature_vectors = vectorizer.fit_transform(combined_features)\n",
    "\n",
    "#cosine similariy\n",
    "similarity = cosine_similarity(feature_vectors)\n",
    "\n",
    "\n",
    "#getting the movie name from user\n",
    "movie_name = input('Enter your favourite movie name: ')\n",
    "\n",
    "#creating a list with all the movie names given in the dataset\n",
    "list_of_all_titles = df['Movie Name'].tolist()\n",
    "\n",
    "#finding the close match for the movie name given by the user\n",
    "find_close_match = difflib.get_close_matches(movie_name,list_of_all_titles)\n",
    "\n",
    "close_match = find_close_match[0]\n",
    "\n",
    "#finding the index of the movie with title\n",
    "index_of_the_movie = df[df['Movie Name']==close_match]['index'].values[0]\n",
    "\n",
    "#getting a list of similar movies\n",
    "similarity_score = list(enumerate(similarity[index_of_the_movie]))\n",
    "\n",
    "#sorting the movies based on their similarity score\n",
    "sorted_similar_movies = sorted(similarity_score,key = lambda x:x[1], reverse = True)\n",
    "\n",
    "#print the name of similar movies\n",
    "print('Movies suggested for you : \\n')\n",
    "\n",
    "i=1\n",
    "\n",
    "for movie in sorted_similar_movies:\n",
    "    index=movie[0]\n",
    "    title_from_index= df[df.index==index]['Movie Name'].values[0]\n",
    "    if (i<6):\n",
    "        print(i,\".\",title_from_index)\n",
    "        i+=1"
   ]
  },
  {
   "cell_type": "code",
   "execution_count": null,
   "id": "5b8ffe80",
   "metadata": {},
   "outputs": [],
   "source": []
  },
  {
   "cell_type": "code",
   "execution_count": null,
   "id": "627eeb26",
   "metadata": {},
   "outputs": [],
   "source": []
  }
 ],
 "metadata": {
  "kernelspec": {
   "display_name": "Python 3 (ipykernel)",
   "language": "python",
   "name": "python3"
  },
  "language_info": {
   "codemirror_mode": {
    "name": "ipython",
    "version": 3
   },
   "file_extension": ".py",
   "mimetype": "text/x-python",
   "name": "python",
   "nbconvert_exporter": "python",
   "pygments_lexer": "ipython3",
   "version": "3.11.5"
  }
 },
 "nbformat": 4,
 "nbformat_minor": 5
}
